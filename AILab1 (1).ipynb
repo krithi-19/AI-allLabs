{
  "nbformat": 4,
  "nbformat_minor": 0,
  "metadata": {
    "colab": {
      "provenance": []
    },
    "kernelspec": {
      "name": "python3",
      "display_name": "Python 3"
    },
    "language_info": {
      "name": "python"
    }
  },
  "cells": [
    {
      "cell_type": "markdown",
      "source": [
        "A.0.1\n",
        "A bakery sells loaves of bread for $3.49 each. Day-old bread is discounted by 60 percent. Write a program that begins by reading the number of loaves of day-old bread being purchased from the user. Then your program should display the regular price for the bread, the discount because it is a day old, and the total price. All of the values should be displayed using two decimal places, and the decimal points in all of the numbers should be aligned when reasonable values are entered by the user."
      ],
      "metadata": {
        "id": "aQqTnRANUFsb"
      }
    },
    {
      "cell_type": "code",
      "source": [
        "noofbreadpurchased = int(input(\"Enter your value: \"))\n",
        "price=3.49\n",
        "regularprice=3.49*noofbreadpurchased\n",
        "discount=3.49*noofbreadpurchased*0.6\n",
        "total=regularprice-discount\n",
        "regularpricewith2dec = \"{:.2f}\".format(regularprice)\n",
        "print(\"RegularPrice:\"+regularpricewith2dec)\n",
        "discountwith2dec = \"{:.2f}\".format(discount)\n",
        "print(\"DiscountedPrice:\"+discountwith2dec)\n",
        "totalwith2dec= \"{:.2f}\".format(total)\n",
        "print(\"Total:\"+totalwith2dec)"
      ],
      "metadata": {
        "id": "r9NM305IutKs",
        "colab": {
          "base_uri": "https://localhost:8080/"
        },
        "outputId": "cf2a5867-776d-4a94-c415-b65b599268d5"
      },
      "execution_count": null,
      "outputs": [
        {
          "output_type": "stream",
          "name": "stdout",
          "text": [
            "Enter your value: 3\n",
            "RegularPrice:10.47\n",
            "DiscountedPrice:6.28\n",
            "Total:4.19\n"
          ]
        }
      ]
    },
    {
      "cell_type": "markdown",
      "source": [
        "A.0.2"
      ],
      "metadata": {
        "id": "5taOAZHKUNAQ"
      }
    },
    {
      "cell_type": "code",
      "source": [
        "inputnumber=int(input(\"Enter your value: \"))\n",
        "\n",
        "\n",
        "if inputnumber >= 0 and inputnumber <=2:\n",
        "    total=inputnumber*10.5;\n",
        "    print(total)\n",
        "\n",
        "elif inputnumber >2:\n",
        "    addonnumber=inputnumber-2\n",
        "    total=(2*10.5)+(addonnumber*4)\n",
        "    print(total)\n",
        "\n",
        "else:\n",
        "    print('negativenumber')"
      ],
      "metadata": {
        "colab": {
          "base_uri": "https://localhost:8080/"
        },
        "id": "aBuWxN42UPxl",
        "outputId": "dc404ea6-3a57-4c8a-c645-18a4036b1c83"
      },
      "execution_count": null,
      "outputs": [
        {
          "output_type": "stream",
          "name": "stdout",
          "text": [
            "Enter your value: 7\n",
            "41.0\n"
          ]
        }
      ]
    },
    {
      "cell_type": "markdown",
      "source": [
        "A.0.4 A prime number is an integer greater than 1 that is only divisible by one and itself. Write a function that determines whether or not its parameter is prime, returning True if it is, and False otherwise. Write a main program that reads an integer from the user and displays a message indicating whether or not it is prime"
      ],
      "metadata": {
        "id": "Nr44IkkPUc6G"
      }
    },
    {
      "cell_type": "code",
      "source": [
        "inputnumber=int(input(\"Enter your value: \"))\n",
        "temproryvariable = False\n",
        "if inputnumber == 1:\n",
        "    print(inputnumber, \"is not a prime inputnumberber\")\n",
        "elif inputnumber > 1:\n",
        "    for i in range(2, inputnumber):\n",
        "        if (inputnumber % i) == 0:\n",
        "            temproryvariable = True\n",
        "            break\n",
        "    if temproryvariable:\n",
        "        print(inputnumber, \"is not a prime number\")\n",
        "    else:\n",
        "        print(inputnumber, \"is a prime number\")\n",
        "\n"
      ],
      "metadata": {
        "colab": {
          "base_uri": "https://localhost:8080/"
        },
        "id": "ZBYA0pedUiIU",
        "outputId": "7dc34738-818c-424b-927e-2984971abd2b"
      },
      "execution_count": null,
      "outputs": [
        {
          "output_type": "stream",
          "name": "stdout",
          "text": [
            "Enter your value: 50\n",
            "50 is not a prime number\n"
          ]
        }
      ]
    },
    {
      "cell_type": "markdown",
      "source": [
        "A.0.5  In this exercise, you will create a function named \"nextPrime\" that finds and returns  the first prime number larger than some integer, n. The value of n will be passed to the function as its only parameter. Include a main program that reads an integer from the user and displays the first prime number larger than the entered value."
      ],
      "metadata": {
        "id": "47i4N3B9UvLw"
      }
    },
    {
      "cell_type": "code",
      "source": [
        "def getnextprimelarger(n):\n",
        "    nextprimenum=[] #\n",
        "    ifnumberprime=[]\n",
        "    for i in range (n+1,n+200):\n",
        "        nextprimenum.append(i)\n",
        "    for j in nextprimenum:\n",
        "        ifvalueprime = True\n",
        "        for x in range(2,j-1):\n",
        "            if j % x == 0:\n",
        "                ifvalueprime = False\n",
        "                break\n",
        "        if ifvalueprime:\n",
        "            ifnumberprime.append(j)\n",
        "    return min(ifnumberprime)\n",
        "inputnumber=int(input(\"Enter your value: \"))\n",
        "print(getnextprimelarger(inputnumber))\n"
      ],
      "metadata": {
        "colab": {
          "base_uri": "https://localhost:8080/"
        },
        "id": "l31VJ5PPUwFr",
        "outputId": "62ba3dd8-1d63-4e9c-cfd8-a9df6a5dbcc0"
      },
      "execution_count": null,
      "outputs": [
        {
          "output_type": "stream",
          "name": "stdout",
          "text": [
            "Enter your value: 50\n",
            "53\n"
          ]
        }
      ]
    },
    {
      "cell_type": "markdown",
      "source": [
        "A.0.3"
      ],
      "metadata": {
        "id": "7ELzOzs-U3gw"
      }
    },
    {
      "cell_type": "code",
      "source": [
        "import random\n",
        "\n",
        "results = []\n",
        "\n",
        "def printTH(n):\n",
        "  if n % 2 == 0:\n",
        "    results.append(\"T\")\n",
        "  else:\n",
        "    results.append(\"H\")\n",
        "\n",
        "def find_H():\n",
        "  if results[-3:] == [\"H\", \"H\", \"H\"]:\n",
        "    return True\n",
        "\n",
        "def find_T():\n",
        "  if results[-3:] == [\"T\", \"T\", \"T\"]:\n",
        "    return True\n",
        "\n",
        "def main(results):\n",
        "  count = 0\n",
        "\n",
        "  for count in range(1000):\n",
        "    n = (random.randint(1, 100))\n",
        "    printTH(n)\n",
        "    if find_H():\n",
        "      print(\"Hs\")\n",
        "      print(results)\n",
        "      print(count+1)\n",
        "      break\n",
        "    elif find_T():\n",
        "      print(results)\n",
        "      print(count+1)\n",
        "      break\n",
        "main(results)\n"
      ],
      "metadata": {
        "colab": {
          "base_uri": "https://localhost:8080/"
        },
        "id": "txb4ye_DU7Hf",
        "outputId": "471b82a1-8aef-43dd-b227-e4eb161741fa"
      },
      "execution_count": null,
      "outputs": [
        {
          "output_type": "stream",
          "name": "stdout",
          "text": [
            "['H', 'T', 'H', 'T', 'T', 'T']\n",
            "6\n"
          ]
        }
      ]
    },
    {
      "cell_type": "markdown",
      "source": [
        "A.0.6"
      ],
      "metadata": {
        "id": "u2dZ7SimVE8u"
      }
    },
    {
      "cell_type": "code",
      "source": [
        "def createdeck():\n",
        "    spadelist=[]\n",
        "    clublist=[]\n",
        "    heartlist=[]\n",
        "    diammondlist=[]\n",
        "    others = [\"T\", \"J\", \"Q\",\"K\",\"A\"]\n",
        "    for x in range(2, 10):\n",
        "        value=str(x)+\"s\"\n",
        "        spadelist.append(value)\n",
        "    for x in others:\n",
        "        value=str(x)+\"s\"\n",
        "        spadelist.append(value)\n",
        "    for x in range(2, 10):\n",
        "        value=str(x)+\"d\"\n",
        "        diammondlist.append(value)\n",
        "    for x in others:\n",
        "        value=str(x)+\"d\"\n",
        "        diammondlist.append(value)\n",
        "    for x in range(2, 10):\n",
        "        value=str(x)+\"c\"\n",
        "        clublist.append(value)\n",
        "    for x in others:\n",
        "        value=str(x)+\"c\"\n",
        "        clublist.append(value)\n",
        "    for x in range(2, 10):\n",
        "        value=str(x)+\"h\"\n",
        "        heartlist.append(value)\n",
        "    for x in others:\n",
        "        value=str(x)+\"h\"\n",
        "        heartlist.append(value)\n",
        "    newlist=spadelist+heartlist+clublist+diammondlist\n",
        "    return newlist\n",
        "\n",
        "\n",
        "\n",
        "def shuffle(newdeck):\n",
        "    import random\n",
        "    lst=sorted(newdeck, key=lambda x: random.random())\n",
        "    print(\"After shuffling :- \",lst)\n",
        "\n",
        "\n",
        "\n",
        "newcreateddeck=createdeck()\n",
        "print(\"Before shuffling :- \",newcreateddeck)\n",
        "shuffle(newcreateddeck)\n"
      ],
      "metadata": {
        "colab": {
          "base_uri": "https://localhost:8080/"
        },
        "id": "YyfBy6EAVH0s",
        "outputId": "9f157313-ff8a-4c8f-9fdd-b889c0ff0c89"
      },
      "execution_count": null,
      "outputs": [
        {
          "output_type": "stream",
          "name": "stdout",
          "text": [
            "Before shuffling :-  ['2s', '3s', '4s', '5s', '6s', '7s', '8s', '9s', 'Ts', 'Js', 'Qs', 'Ks', 'As', '2h', '3h', '4h', '5h', '6h', '7h', '8h', '9h', 'Th', 'Jh', 'Qh', 'Kh', 'Ah', '2c', '3c', '4c', '5c', '6c', '7c', '8c', '9c', 'Tc', 'Jc', 'Qc', 'Kc', 'Ac', '2d', '3d', '4d', '5d', '6d', '7d', '8d', '9d', 'Td', 'Jd', 'Qd', 'Kd', 'Ad']\n",
            "After shuffling :-  ['Qd', '7h', '2d', '6h', '3s', '6c', '9s', '7s', 'Jd', '5c', '3d', '2s', '9d', '4d', 'Ad', '9h', 'Ks', 'Qs', '5h', 'Kd', '4c', '7d', 'Qh', '4s', 'Ac', 'Tc', '6d', '2h', '8c', '6s', '3h', '2c', 'Ah', '5d', '7c', 'Jh', 'Kh', '8h', 'Jc', '8s', '8d', 'As', '9c', 'Kc', 'Js', '3c', '4h', '5s', 'Ts', 'Qc', 'Th', 'Td']\n"
          ]
        }
      ]
    },
    {
      "cell_type": "markdown",
      "source": [
        "A.0.7"
      ],
      "metadata": {
        "id": "e9XUP9hTVPir"
      }
    },
    {
      "cell_type": "code",
      "source": [
        "import random\n",
        "class Cards():\n",
        "    def __init__(self):\n",
        "        self.cards = []\n",
        "    def create(self):\n",
        "        seeds = [\"s\", \"c\", \"h\", \"d\"]\n",
        "        values = [2, 3, 4, 5, 6, 7, 8, 9, \"T\", \"J\", \"Q\", \"K\", \"A\"]\n",
        "        for v in values:\n",
        "            for s in seeds:\n",
        "                self.cards.append(\"{value}{seed}\".format(value=v, seed=s))\n",
        "    def shuffle(self):\n",
        "        random.shuffle(self.cards)\n",
        "    def deal(self, num_players, num_cards):\n",
        "        hands = []\n",
        "        for _ in range(num_players):\n",
        "            hand = []\n",
        "            for _ in range(num_cards):\n",
        "                hand.append(self.cards.pop())\n",
        "            hands.append(hand)\n",
        "        return hands\n",
        "deck = Cards()\n",
        "deck.create()\n",
        "deck.shuffle()\n",
        "hands = deck.deal(5, 5)\n",
        "print(hands)"
      ],
      "metadata": {
        "colab": {
          "base_uri": "https://localhost:8080/"
        },
        "id": "3nn2eAPnVSle",
        "outputId": "4413dd56-f5dc-4607-c7b6-1582f91f75c6"
      },
      "execution_count": null,
      "outputs": [
        {
          "output_type": "stream",
          "name": "stdout",
          "text": [
            "[['7s', 'Ac', '3h', '7h', '5s'], ['7c', '8h', '6h', 'Kd', '3c'], ['6s', 'Tc', 'Kc', '6c', '4s'], ['2h', 'Qs', '5d', 'Td', 'Ts'], ['Jd', '4d', '5c', 'As', 'Th']]\n"
          ]
        }
      ]
    }
  ]
}